{
 "cells": [
  {
   "cell_type": "code",
   "execution_count": 25,
   "id": "703e1fff-e6c2-48c0-a900-77fb553f3589",
   "metadata": {},
   "outputs": [],
   "source": [
    "import pandas as pd"
   ]
  },
  {
   "cell_type": "markdown",
   "id": "eea16f84-e096-4980-90e7-ef342943b90f",
   "metadata": {},
   "source": [
    "### Reading Json Data"
   ]
  },
  {
   "cell_type": "code",
   "execution_count": 4,
   "id": "afd9c35c-ad99-44f8-a0e8-07b3680d2966",
   "metadata": {},
   "outputs": [
    {
     "data": {
      "text/html": [
       "<div><div id=694b3072-cb32-4fcf-bfc8-a09299a5b53d style=\"display:none; background-color:#9D6CFF; color:white; width:200px; height:30px; padding-left:5px; border-radius:4px; flex-direction:row; justify-content:space-around; align-items:center;\" onmouseover=\"this.style.backgroundColor='#BA9BF8'\" onmouseout=\"this.style.backgroundColor='#9D6CFF'\" onclick=\"window.commands?.execute('create-mitosheet-from-dataframe-output');\">See Full Dataframe in Mito</div> <script> if (window.commands?.hasCommand('create-mitosheet-from-dataframe-output')) document.getElementById('694b3072-cb32-4fcf-bfc8-a09299a5b53d').style.display = 'flex' </script> <table border=\"1\" class=\"dataframe\">\n",
       "  <thead>\n",
       "    <tr style=\"text-align: right;\">\n",
       "      <th></th>\n",
       "      <th>ID</th>\n",
       "      <th>JobTitle</th>\n",
       "      <th>EmailAddress</th>\n",
       "      <th>FirstNameLastName</th>\n",
       "      <th>Newcolumn</th>\n",
       "    </tr>\n",
       "  </thead>\n",
       "  <tbody>\n",
       "    <tr>\n",
       "      <th>0</th>\n",
       "      <td>1</td>\n",
       "      <td>Loan Officer</td>\n",
       "      <td>Florence_Giles7596@qater.org</td>\n",
       "      <td>Florence Giles</td>\n",
       "      <td>AECOM</td>\n",
       "    </tr>\n",
       "    <tr>\n",
       "      <th>1</th>\n",
       "      <td>2</td>\n",
       "      <td>Bellman</td>\n",
       "      <td>Marie_Rees2403@twipet.com</td>\n",
       "      <td>Marie Rees</td>\n",
       "      <td>It Smart Group</td>\n",
       "    </tr>\n",
       "    <tr>\n",
       "      <th>2</th>\n",
       "      <td>3</td>\n",
       "      <td>Restaurant Manager</td>\n",
       "      <td>Goldie_Tyler3986@deavo.com</td>\n",
       "      <td>Goldie Tyler</td>\n",
       "      <td>BuzzFeed</td>\n",
       "    </tr>\n",
       "    <tr>\n",
       "      <th>3</th>\n",
       "      <td>4</td>\n",
       "      <td>Executive Director</td>\n",
       "      <td>Matthew_Kirby6457@bauros.biz</td>\n",
       "      <td>Matthew Kirby</td>\n",
       "      <td>Zepter</td>\n",
       "    </tr>\n",
       "    <tr>\n",
       "      <th>4</th>\n",
       "      <td>5</td>\n",
       "      <td>Biologist</td>\n",
       "      <td>Erica_Utterson8472@twace.org</td>\n",
       "      <td>Erica Utterson</td>\n",
       "      <td>Amazon.com</td>\n",
       "    </tr>\n",
       "    <tr>\n",
       "      <th>...</th>\n",
       "      <td>...</td>\n",
       "      <td>...</td>\n",
       "      <td>...</td>\n",
       "      <td>...</td>\n",
       "      <td>...</td>\n",
       "    </tr>\n",
       "    <tr>\n",
       "      <th>95</th>\n",
       "      <td>96</td>\n",
       "      <td>Assistant Buyer</td>\n",
       "      <td>Nina_Coates1382@bungar.biz</td>\n",
       "      <td>Nina Coates</td>\n",
       "      <td>Amazon.com</td>\n",
       "    </tr>\n",
       "    <tr>\n",
       "      <th>96</th>\n",
       "      <td>97</td>\n",
       "      <td>Pharmacist</td>\n",
       "      <td>Tania_Jarvis9612@eirey.tech</td>\n",
       "      <td>Tania Jarvis</td>\n",
       "      <td>Team Guard SRL</td>\n",
       "    </tr>\n",
       "    <tr>\n",
       "      <th>97</th>\n",
       "      <td>98</td>\n",
       "      <td>Electrician</td>\n",
       "      <td>Rowan_Chester3198@womeona.net</td>\n",
       "      <td>Rowan Chester</td>\n",
       "      <td>Amazon.com</td>\n",
       "    </tr>\n",
       "    <tr>\n",
       "      <th>98</th>\n",
       "      <td>99</td>\n",
       "      <td>Web Developer</td>\n",
       "      <td>Luke_Watt7330@cispeto.com</td>\n",
       "      <td>Luke Watt</td>\n",
       "      <td>Comcast</td>\n",
       "    </tr>\n",
       "    <tr>\n",
       "      <th>99</th>\n",
       "      <td>100</td>\n",
       "      <td>Budget Analyst</td>\n",
       "      <td>Barney_Huggins2195@iatim.tech</td>\n",
       "      <td>Barney Huggins</td>\n",
       "      <td>BuzzFeed</td>\n",
       "    </tr>\n",
       "  </tbody>\n",
       "</table></div>"
      ],
      "text/plain": [
       "     ID            JobTitle                   EmailAddress FirstNameLastName  \\\n",
       "0     1        Loan Officer   Florence_Giles7596@qater.org    Florence Giles   \n",
       "1     2             Bellman      Marie_Rees2403@twipet.com        Marie Rees   \n",
       "2     3  Restaurant Manager     Goldie_Tyler3986@deavo.com      Goldie Tyler   \n",
       "3     4  Executive Director   Matthew_Kirby6457@bauros.biz     Matthew Kirby   \n",
       "4     5           Biologist   Erica_Utterson8472@twace.org    Erica Utterson   \n",
       "..  ...                 ...                            ...               ...   \n",
       "95   96     Assistant Buyer     Nina_Coates1382@bungar.biz       Nina Coates   \n",
       "96   97          Pharmacist    Tania_Jarvis9612@eirey.tech      Tania Jarvis   \n",
       "97   98         Electrician  Rowan_Chester3198@womeona.net     Rowan Chester   \n",
       "98   99       Web Developer      Luke_Watt7330@cispeto.com         Luke Watt   \n",
       "99  100      Budget Analyst  Barney_Huggins2195@iatim.tech    Barney Huggins   \n",
       "\n",
       "         Newcolumn  \n",
       "0            AECOM  \n",
       "1   It Smart Group  \n",
       "2         BuzzFeed  \n",
       "3           Zepter  \n",
       "4       Amazon.com  \n",
       "..             ...  \n",
       "95      Amazon.com  \n",
       "96  Team Guard SRL  \n",
       "97      Amazon.com  \n",
       "98         Comcast  \n",
       "99        BuzzFeed  \n",
       "\n",
       "[100 rows x 5 columns]"
      ]
     },
     "execution_count": 4,
     "metadata": {},
     "output_type": "execute_result"
    }
   ],
   "source": [
    "import json\n",
    "# load data using Python JSON module\n",
    "with open('./data_files/ExportJson.json','r') as f:\n",
    "    data = json.loads(f.read())\n",
    "# Flatten data\n",
    "df_nested_list = pd.json_normalize(data, record_path =['objects'])\n",
    "df_nested_list"
   ]
  },
  {
   "cell_type": "markdown",
   "id": "579bb2e0-715f-4684-aafb-3c004bd5885e",
   "metadata": {},
   "source": [
    "### Reading Csv Data"
   ]
  },
  {
   "cell_type": "code",
   "execution_count": 5,
   "id": "40acf40a-2f32-4f03-acd6-4d58fcaca5cc",
   "metadata": {},
   "outputs": [],
   "source": [
    "df_csv = pd.read_csv(\"./data_files/ExportCSV.csv\")\n",
    "df_csv.columns = df_csv.columns.str.replace(\" \",\"\")"
   ]
  },
  {
   "cell_type": "markdown",
   "id": "c612029f-5870-446b-934c-0818052f1eed",
   "metadata": {},
   "source": [
    "### Reading Excel Data"
   ]
  },
  {
   "cell_type": "code",
   "execution_count": 6,
   "id": "4dfa7138-44e0-4ba8-b484-0eb8eaeffbb2",
   "metadata": {},
   "outputs": [],
   "source": [
    "df_excel = pd.read_excel(\"./data_files/ExportExcel.xlsx\")\n",
    "df_excel.columns =df_excel.columns.str.replace(\" \",\"\")"
   ]
  },
  {
   "cell_type": "markdown",
   "id": "ffbf7a02-7314-4656-a217-870da1aec671",
   "metadata": {},
   "source": [
    "### Concating Csv Json Excel Data"
   ]
  },
  {
   "cell_type": "code",
   "execution_count": 7,
   "id": "bff62212-a0cb-4385-82f0-04f3d9e3acc4",
   "metadata": {},
   "outputs": [
    {
     "data": {
      "text/html": [
       "<div><div id=2ffd8afe-ab4b-4a2e-8d35-611376631d13 style=\"display:none; background-color:#9D6CFF; color:white; width:200px; height:30px; padding-left:5px; border-radius:4px; flex-direction:row; justify-content:space-around; align-items:center;\" onmouseover=\"this.style.backgroundColor='#BA9BF8'\" onmouseout=\"this.style.backgroundColor='#9D6CFF'\" onclick=\"window.commands?.execute('create-mitosheet-from-dataframe-output');\">See Full Dataframe in Mito</div> <script> if (window.commands?.hasCommand('create-mitosheet-from-dataframe-output')) document.getElementById('2ffd8afe-ab4b-4a2e-8d35-611376631d13').style.display = 'flex' </script> <table border=\"1\" class=\"dataframe\">\n",
       "  <thead>\n",
       "    <tr style=\"text-align: right;\">\n",
       "      <th></th>\n",
       "      <th>ID</th>\n",
       "      <th>JobTitle</th>\n",
       "      <th>EmailAddress</th>\n",
       "      <th>FirstNameLastName</th>\n",
       "      <th>Newcolumn</th>\n",
       "    </tr>\n",
       "  </thead>\n",
       "  <tbody>\n",
       "    <tr>\n",
       "      <th>0</th>\n",
       "      <td>1</td>\n",
       "      <td>Loan Officer</td>\n",
       "      <td>Florence_Giles7596@qater.org</td>\n",
       "      <td>Florence Giles</td>\n",
       "      <td>AECOM</td>\n",
       "    </tr>\n",
       "    <tr>\n",
       "      <th>1</th>\n",
       "      <td>2</td>\n",
       "      <td>Bellman</td>\n",
       "      <td>Marie_Rees2403@twipet.com</td>\n",
       "      <td>Marie Rees</td>\n",
       "      <td>It Smart Group</td>\n",
       "    </tr>\n",
       "    <tr>\n",
       "      <th>2</th>\n",
       "      <td>3</td>\n",
       "      <td>Restaurant Manager</td>\n",
       "      <td>Goldie_Tyler3986@deavo.com</td>\n",
       "      <td>Goldie Tyler</td>\n",
       "      <td>BuzzFeed</td>\n",
       "    </tr>\n",
       "    <tr>\n",
       "      <th>3</th>\n",
       "      <td>4</td>\n",
       "      <td>Executive Director</td>\n",
       "      <td>Matthew_Kirby6457@bauros.biz</td>\n",
       "      <td>Matthew Kirby</td>\n",
       "      <td>Zepter</td>\n",
       "    </tr>\n",
       "    <tr>\n",
       "      <th>4</th>\n",
       "      <td>5</td>\n",
       "      <td>Biologist</td>\n",
       "      <td>Erica_Utterson8472@twace.org</td>\n",
       "      <td>Erica Utterson</td>\n",
       "      <td>Amazon.com</td>\n",
       "    </tr>\n",
       "    <tr>\n",
       "      <th>...</th>\n",
       "      <td>...</td>\n",
       "      <td>...</td>\n",
       "      <td>...</td>\n",
       "      <td>...</td>\n",
       "      <td>...</td>\n",
       "    </tr>\n",
       "    <tr>\n",
       "      <th>96</th>\n",
       "      <td>97</td>\n",
       "      <td>Front Desk Coordinator</td>\n",
       "      <td>Josh_Rosenbloom3717@qater.org</td>\n",
       "      <td>Josh Rosenbloom</td>\n",
       "      <td>Amazon.com</td>\n",
       "    </tr>\n",
       "    <tr>\n",
       "      <th>97</th>\n",
       "      <td>98</td>\n",
       "      <td>Cook</td>\n",
       "      <td>Barry_Walker6102@bretoux.com</td>\n",
       "      <td>Barry Walker</td>\n",
       "      <td>Comcast</td>\n",
       "    </tr>\n",
       "    <tr>\n",
       "      <th>98</th>\n",
       "      <td>99</td>\n",
       "      <td>Production Painter</td>\n",
       "      <td>Sara_Hopkinson9895@bretoux.com</td>\n",
       "      <td>Sara Hopkinson</td>\n",
       "      <td>Apple Inc.</td>\n",
       "    </tr>\n",
       "    <tr>\n",
       "      <th>99</th>\n",
       "      <td>100</td>\n",
       "      <td>Laboratory Technician</td>\n",
       "      <td>Melinda_Hancock6889@mafthy.com</td>\n",
       "      <td>Melinda Hancock</td>\n",
       "      <td>Comodo</td>\n",
       "    </tr>\n",
       "    <tr>\n",
       "      <th>100</th>\n",
       "      <td>data generated with OnlineDataGenerator available at: https://www.onlinedatagenerator.com</td>\n",
       "      <td>NaN</td>\n",
       "      <td>NaN</td>\n",
       "      <td>NaN</td>\n",
       "      <td>NaN</td>\n",
       "    </tr>\n",
       "  </tbody>\n",
       "</table></div>"
      ],
      "text/plain": [
       "                                                    ID  \\\n",
       "0                                                    1   \n",
       "1                                                    2   \n",
       "2                                                    3   \n",
       "3                                                    4   \n",
       "4                                                    5   \n",
       "..                                                 ...   \n",
       "96                                                  97   \n",
       "97                                                  98   \n",
       "98                                                  99   \n",
       "99                                                 100   \n",
       "100  data generated with OnlineDataGenerator availa...   \n",
       "\n",
       "                   JobTitle                    EmailAddress FirstNameLastName  \\\n",
       "0              Loan Officer    Florence_Giles7596@qater.org    Florence Giles   \n",
       "1                   Bellman       Marie_Rees2403@twipet.com        Marie Rees   \n",
       "2        Restaurant Manager      Goldie_Tyler3986@deavo.com      Goldie Tyler   \n",
       "3        Executive Director    Matthew_Kirby6457@bauros.biz     Matthew Kirby   \n",
       "4                 Biologist    Erica_Utterson8472@twace.org    Erica Utterson   \n",
       "..                      ...                             ...               ...   \n",
       "96   Front Desk Coordinator   Josh_Rosenbloom3717@qater.org   Josh Rosenbloom   \n",
       "97                     Cook    Barry_Walker6102@bretoux.com      Barry Walker   \n",
       "98       Production Painter  Sara_Hopkinson9895@bretoux.com    Sara Hopkinson   \n",
       "99    Laboratory Technician  Melinda_Hancock6889@mafthy.com   Melinda Hancock   \n",
       "100                     NaN                             NaN               NaN   \n",
       "\n",
       "          Newcolumn  \n",
       "0             AECOM  \n",
       "1    It Smart Group  \n",
       "2          BuzzFeed  \n",
       "3            Zepter  \n",
       "4        Amazon.com  \n",
       "..              ...  \n",
       "96       Amazon.com  \n",
       "97          Comcast  \n",
       "98       Apple Inc.  \n",
       "99           Comodo  \n",
       "100             NaN  \n",
       "\n",
       "[301 rows x 5 columns]"
      ]
     },
     "execution_count": 7,
     "metadata": {},
     "output_type": "execute_result"
    }
   ],
   "source": [
    "df = pd.concat([df_nested_list,df_csv,df_excel],axis=0)\n",
    "df"
   ]
  },
  {
   "cell_type": "markdown",
   "id": "9fb6f2e6-23a4-4add-b9ce-d2a65bd56e1e",
   "metadata": {},
   "source": [
    "### Data Cleaning "
   ]
  },
  {
   "cell_type": "code",
   "execution_count": 8,
   "id": "a64d7f3e-5b89-4206-874a-dc686ff71dd2",
   "metadata": {},
   "outputs": [
    {
     "data": {
      "text/plain": [
       "(301, 5)"
      ]
     },
     "execution_count": 8,
     "metadata": {},
     "output_type": "execute_result"
    }
   ],
   "source": [
    "df.shape"
   ]
  },
  {
   "cell_type": "code",
   "execution_count": 9,
   "id": "78c4c330-eea6-4e41-ac90-4c5d7a96036b",
   "metadata": {},
   "outputs": [],
   "source": [
    "df = df[:-1:]"
   ]
  },
  {
   "cell_type": "code",
   "execution_count": 10,
   "id": "411bb6c3-69eb-48d2-ae86-cd2cd3693857",
   "metadata": {},
   "outputs": [
    {
     "data": {
      "text/plain": [
       "Index(['ID', 'JobTitle', 'EmailAddress', 'FirstNameLastName', 'Newcolumn'], dtype='object')"
      ]
     },
     "execution_count": 10,
     "metadata": {},
     "output_type": "execute_result"
    }
   ],
   "source": [
    "df.columns"
   ]
  },
  {
   "cell_type": "code",
   "execution_count": 11,
   "id": "f7abc2f5-2641-455a-9cb6-56ef3dec10d7",
   "metadata": {},
   "outputs": [
    {
     "name": "stderr",
     "output_type": "stream",
     "text": [
      "c:\\Users\\SAGAR\\anaconda3\\lib\\site-packages\\pandas\\core\\frame.py:4906: SettingWithCopyWarning: \n",
      "A value is trying to be set on a copy of a slice from a DataFrame\n",
      "\n",
      "See the caveats in the documentation: https://pandas.pydata.org/pandas-docs/stable/user_guide/indexing.html#returning-a-view-versus-a-copy\n",
      "  return super().drop(\n"
     ]
    }
   ],
   "source": [
    "df.drop(columns = 'ID',inplace = True)"
   ]
  },
  {
   "cell_type": "code",
   "execution_count": 12,
   "id": "185920cc-a57c-4194-ba59-904f700fe470",
   "metadata": {},
   "outputs": [],
   "source": [
    "df.reset_index(inplace=True)"
   ]
  },
  {
   "cell_type": "code",
   "execution_count": 13,
   "id": "b38df60c-6e42-4991-bf19-b1797ff378c0",
   "metadata": {},
   "outputs": [
    {
     "name": "stderr",
     "output_type": "stream",
     "text": [
      "c:\\Users\\SAGAR\\anaconda3\\lib\\site-packages\\pandas\\core\\frame.py:5039: SettingWithCopyWarning: \n",
      "A value is trying to be set on a copy of a slice from a DataFrame\n",
      "\n",
      "See the caveats in the documentation: https://pandas.pydata.org/pandas-docs/stable/user_guide/indexing.html#returning-a-view-versus-a-copy\n",
      "  return super().rename(\n"
     ]
    }
   ],
   "source": [
    "df.rename(columns = {'Newcolumn':'Company'}, inplace = True)"
   ]
  },
  {
   "cell_type": "code",
   "execution_count": 14,
   "id": "996592ce-e62b-4e24-a49d-4c3d71264c16",
   "metadata": {},
   "outputs": [
    {
     "name": "stderr",
     "output_type": "stream",
     "text": [
      "<ipython-input-14-9eb254e230f3>:1: SettingWithCopyWarning: \n",
      "A value is trying to be set on a copy of a slice from a DataFrame.\n",
      "Try using .loc[row_indexer,col_indexer] = value instead\n",
      "\n",
      "See the caveats in the documentation: https://pandas.pydata.org/pandas-docs/stable/user_guide/indexing.html#returning-a-view-versus-a-copy\n",
      "  df[\"FirstName\"] = df[\"FirstNameLastName\"].apply(lambda x : x.split(\" \")[0])\n",
      "<ipython-input-14-9eb254e230f3>:2: SettingWithCopyWarning: \n",
      "A value is trying to be set on a copy of a slice from a DataFrame.\n",
      "Try using .loc[row_indexer,col_indexer] = value instead\n",
      "\n",
      "See the caveats in the documentation: https://pandas.pydata.org/pandas-docs/stable/user_guide/indexing.html#returning-a-view-versus-a-copy\n",
      "  df[\"LastName\"]  = df[\"FirstNameLastName\"].apply(lambda x : x.split(\" \")[1])\n"
     ]
    },
    {
     "data": {
      "text/plain": [
       "(0      Florence\n",
       " 1         Marie\n",
       " 2        Goldie\n",
       " 3       Matthew\n",
       " 4         Erica\n",
       "          ...   \n",
       " 295       Aeris\n",
       " 296        Josh\n",
       " 297       Barry\n",
       " 298        Sara\n",
       " 299     Melinda\n",
       " Name: FirstName, Length: 300, dtype: object,\n",
       " 0           Giles\n",
       " 1            Rees\n",
       " 2           Tyler\n",
       " 3           Kirby\n",
       " 4        Utterson\n",
       "           ...    \n",
       " 295       Norburn\n",
       " 296    Rosenbloom\n",
       " 297        Walker\n",
       " 298     Hopkinson\n",
       " 299       Hancock\n",
       " Name: LastName, Length: 300, dtype: object)"
      ]
     },
     "execution_count": 14,
     "metadata": {},
     "output_type": "execute_result"
    }
   ],
   "source": [
    "df[\"FirstName\"] = df[\"FirstNameLastName\"].apply(lambda x : x.split(\" \")[0])\n",
    "df[\"LastName\"]  = df[\"FirstNameLastName\"].apply(lambda x : x.split(\" \")[1])\n",
    "df[\"FirstName\"] ,df[\"LastName\"]"
   ]
  },
  {
   "cell_type": "code",
   "execution_count": 15,
   "id": "a3daa41d-90fc-4d0b-b5a9-67b184819a28",
   "metadata": {},
   "outputs": [],
   "source": [
    "df.drop(columns= 'FirstNameLastName' ,inplace= True)"
   ]
  },
  {
   "cell_type": "code",
   "execution_count": 87,
   "id": "34b6b6bd-ce1d-4d86-948d-ee02e257a897",
   "metadata": {},
   "outputs": [
    {
     "data": {
      "text/plain": [
       "Index(['index', 'JobTitle', 'EmailAddress', 'Company', 'FirstName',\n",
       "       'LastName'],\n",
       "      dtype='object')"
      ]
     },
     "execution_count": 87,
     "metadata": {},
     "output_type": "execute_result"
    }
   ],
   "source": [
    "df.columns"
   ]
  },
  {
   "cell_type": "code",
   "execution_count": 21,
   "id": "1ee8e0b9",
   "metadata": {},
   "outputs": [
    {
     "data": {
      "text/plain": [
       "Index(['Cook', 'Front Desk Coordinator', 'Budget Analyst',\n",
       "       'Laboratory Technician', 'Biologist', 'Assistant Buyer',\n",
       "       'Healthcare Specialist', 'Business Broker',\n",
       "       'Call Center Representative', 'Cash Manager', 'Loan Officer',\n",
       "       'Operator', 'Ambulatory Nurse', 'Accountant', 'Health Educator',\n",
       "       'Bellman', 'Staffing Consultant', 'Service Supervisor', 'Baker',\n",
       "       'Webmaster', 'Bookkeeper', 'Production Painter', 'Design Engineer',\n",
       "       'Dentist', 'Food Technologist', 'Physician', 'Steward',\n",
       "       'Software Engineer', 'Machine Operator', 'Fabricator', 'Retail Trainee',\n",
       "       'Pharmacist', 'Cashier', 'Clerk', 'Treasurer', 'Restaurant Manager',\n",
       "       'Chef Manager', 'Doctor', 'Auditor', 'Project Manager', 'Inspector',\n",
       "       'Executive Director', 'Stockbroker', 'Investment  Advisor',\n",
       "       'Electrician', 'HR Coordinator', 'Designer', 'Banker',\n",
       "       'Mobile Developer', 'Paramedic', 'Web Developer', 'HR Specialist',\n",
       "       'IT Support Staff', 'CNC Operator', 'Lecturer',\n",
       "       'Global Logistics Supervisor', 'Systems Administrator',\n",
       "       'Insurance Broker', 'Audiologist'],\n",
       "      dtype='object')"
      ]
     },
     "execution_count": 21,
     "metadata": {},
     "output_type": "execute_result"
    }
   ],
   "source": [
    "df.JobTitle.value_counts().keys()"
   ]
  },
  {
   "cell_type": "markdown",
   "id": "5d4ab4e9-d667-4bfb-a2ef-564e82f3c82a",
   "metadata": {},
   "source": [
    "###  Connecting to Data Base"
   ]
  },
  {
   "cell_type": "code",
   "execution_count": 120,
   "id": "ce34ce67-e420-4d87-8aad-299bbd079104",
   "metadata": {},
   "outputs": [
    {
     "name": "stdout",
     "output_type": "stream",
     "text": [
      "Opened database successfully\n"
     ]
    }
   ],
   "source": [
    "import psycopg2\n",
    "\n",
    "conn = psycopg2.connect(database=\"postgres\", user = \"postgres\", password = \"password\", host = \"127.0.0.1\", port = \"5432\")\n",
    "\n",
    "print(\"Opened database successfully\")"
   ]
  },
  {
   "cell_type": "code",
   "execution_count": 121,
   "id": "7c633093-25f5-4f40-8963-ec2f25778ccc",
   "metadata": {},
   "outputs": [
    {
     "name": "stdout",
     "output_type": "stream",
     "text": [
      "Table created sucessfully\n"
     ]
    }
   ],
   "source": [
    "cursor = conn.cursor()\n",
    "cursor.execute('drop table if exists user_data')\n",
    "\n",
    "cursor.execute('''CREATE TABLE user_data\n",
    "                (JobTitle TEXT NOT NULL,\n",
    "            EmailAddress TEXT NOT NULL,\n",
    "             Company TEXT NOT NULL,\n",
    "              FirstName TEXT NOT NULL,\n",
    "               LastName TEXT NOT NULL)''')\n",
    "\n",
    "\n",
    "print(\"Table created sucessfully\")\n",
    "\n",
    "conn.commit()\n",
    "\n"
   ]
  },
  {
   "cell_type": "code",
   "execution_count": 122,
   "id": "3a923234-9656-4a5f-be10-715aecb26db6",
   "metadata": {},
   "outputs": [
    {
     "data": {
      "text/plain": [
       "Index(['index', 'JobTitle', 'EmailAddress', 'Company', 'FirstName',\n",
       "       'LastName'],\n",
       "      dtype='object')"
      ]
     },
     "execution_count": 122,
     "metadata": {},
     "output_type": "execute_result"
    }
   ],
   "source": [
    "df.columns"
   ]
  },
  {
   "cell_type": "markdown",
   "id": "4547579a-8bd0-4945-88c3-90b7dcbdd96a",
   "metadata": {},
   "source": [
    "### Inserting the Data in to Psql"
   ]
  },
  {
   "cell_type": "code",
   "execution_count": 123,
   "id": "1973136a-a00a-463e-81e1-af8b2008a042",
   "metadata": {},
   "outputs": [
    {
     "name": "stdout",
     "output_type": "stream",
     "text": [
      "INSERT INTO user_data(JobTitle,EmailAddress,Company,FirstName,LastName) VALUES %s\n",
      "execute_values() done\n"
     ]
    }
   ],
   "source": [
    "\n",
    "# import packages\n",
    "import psycopg2\n",
    "import psycopg2.extras as extras\n",
    "import pandas as pd\n",
    "  \n",
    "  \n",
    "def execute_values(conn, df, table):\n",
    "  \n",
    "    tuples = [tuple(x) for x in df.to_numpy()]\n",
    "  \n",
    "    cols = ','.join(list(df.columns))\n",
    "  \n",
    "\n",
    "    # SQL query to execute\n",
    "    query = \"INSERT INTO %s(%s) VALUES %%s\" % (table, cols)\n",
    "    print(query)\n",
    "    cursor = conn.cursor()\n",
    "    try:\n",
    "        extras.execute_values(cursor, query, tuples)\n",
    "        conn.commit()\n",
    "    except (Exception, psycopg2.DatabaseError) as error:\n",
    "        print(\"Error: %s\" % error)\n",
    "        conn.rollback()\n",
    "        cursor.close()\n",
    "        return 1\n",
    "    print(\"execute_values() done\")\n",
    "    cursor.close()\n",
    "    \n",
    "    \n",
    "data = df[['JobTitle', 'EmailAddress', 'Company', 'FirstName',\n",
    "       'LastName']]\n",
    "  \n",
    "# using the function defined\n",
    "execute_values(conn, data, 'user_data')"
   ]
  },
  {
   "cell_type": "code",
   "execution_count": 124,
   "id": "0a24648b-c736-4ae5-8f7f-f7f2592c61ca",
   "metadata": {},
   "outputs": [],
   "source": [
    "# data.to_sql('user_data', conn, if_exists= 'replace')\n",
    "conn.commit()\n",
    "conn.close()"
   ]
  },
  {
   "cell_type": "code",
   "execution_count": null,
   "id": "d232ed96-5704-43a8-b7ba-159e2d67dc35",
   "metadata": {},
   "outputs": [],
   "source": []
  }
 ],
 "metadata": {
  "kernelspec": {
   "display_name": "Python 3.8.11 ('base')",
   "language": "python",
   "name": "python3"
  },
  "language_info": {
   "codemirror_mode": {
    "name": "ipython",
    "version": 3
   },
   "file_extension": ".py",
   "mimetype": "text/x-python",
   "name": "python",
   "nbconvert_exporter": "python",
   "pygments_lexer": "ipython3",
   "version": "3.8.11"
  },
  "vscode": {
   "interpreter": {
    "hash": "1f407ea102e86012d58633fd0344f0ebfad73e64d094d85cc962806bfa92be8e"
   }
  },
  "widgets": {
   "application/vnd.jupyter.widget-state+json": {
    "state": {},
    "version_major": 2,
    "version_minor": 0
   }
  }
 },
 "nbformat": 4,
 "nbformat_minor": 5
}
